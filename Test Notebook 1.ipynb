{
 "cells": [
  {
   "cell_type": "code",
   "execution_count": 1,
   "metadata": {
    "collapsed": false
   },
   "outputs": [],
   "source": [
    "import re\n",
    "import math\n",
    "import pandas as pd"
   ]
  },
  {
   "cell_type": "code",
   "execution_count": 2,
   "metadata": {
    "collapsed": false
   },
   "outputs": [],
   "source": [
    "import matplotlib.pyplot as plt"
   ]
  },
  {
   "cell_type": "code",
   "execution_count": 3,
   "metadata": {
    "collapsed": false
   },
   "outputs": [],
   "source": [
    "%matplotlib inline"
   ]
  },
  {
   "cell_type": "code",
   "execution_count": 4,
   "metadata": {
    "collapsed": false
   },
   "outputs": [],
   "source": [
    "summary = pd.read_csv(\"atusdata/atussum_2013.dat\")"
   ]
  },
  {
   "cell_type": "code",
   "execution_count": 5,
   "metadata": {
    "collapsed": false
   },
   "outputs": [],
   "source": [
    "def average_minutes(data, activity_col):\n",
    "    data = data.rename(columns={\"TUFINLWGT\": \"weight\", activity_col: \"minutes\"})\n",
    "    data = data[['weight', \"minutes\"]]\n",
    "    data['weighted_minutes'] = data.weight * data.minutes\n",
    "    return data.weighted_minutes.sum() / data.weight.sum()"
   ]
  },
  {
   "cell_type": "code",
   "execution_count": 6,
   "metadata": {
    "collapsed": false
   },
   "outputs": [],
   "source": [
    "def stdev_minutes(data, activity_col):\n",
    "    data_mean = average_minutes(data, activity_col)\n",
    "    num_non0_obs = summary[summary.TUFINLWGT != 0].TUFINLWGT.count()\n",
    "    data = data.rename(columns={\"TUFINLWGT\": \"weight\", activity_col: \"minutes\"})\n",
    "    data = data[[\"weight\", \"minutes\"]]\n",
    "    data['weighted_ss'] = data.weight * (data.minutes - data_mean)**2\n",
    "    return math.sqrt(data.weighted_ss.sum()/(((num_non0_obs-1)/num_non0_obs)*data.weight.sum()))"
   ]
  },
  {
   "cell_type": "code",
   "execution_count": 7,
   "metadata": {
    "collapsed": false
   },
   "outputs": [],
   "source": [
    "def activity_columns(data, activity_code):\n",
    "    \"\"\"For the activity code given, return all columns that fall under that activity.\"\"\"\n",
    "    col_prefix = \"t{}\".format(activity_code)\n",
    "    return [column for column in data.columns if re.match(col_prefix, column)]"
   ]
  },
  {
   "cell_type": "code",
   "execution_count": 8,
   "metadata": {
    "collapsed": true
   },
   "outputs": [],
   "source": [
    "def hypothesis_test_plot(data, group_var, test_var):\n",
    "    data = data[[group_var, test_var, \"TUFINLWGT\"]]\n",
    "    data_grouped = data.groupby(group_var)\n",
    "    frame = pd.DataFrame()\n",
    "    for group in data_grouped:\n",
    "        count = group[1].TUFINLWGT.count()\n",
    "        mean = average_minutes(group[1], test_var)\n",
    "        stdev = stdev_minutes(group[1], test_var)\n",
    "        frame = frame.append({group_var: group[0], \"mean\": mean, \"error\": (stdev*1.96/math.sqrt(count))}, ignore_index=True)\n",
    "    frame.index = frame.pop(group_var)\n",
    "    plot = frame.plot(kind=\"bar\", yerr=\"error\", figsize=(12, 8))\n",
    "    return (frame, plot)\n",
    "    "
   ]
  },
  {
   "cell_type": "code",
   "execution_count": 9,
   "metadata": {
    "collapsed": false
   },
   "outputs": [
    {
     "data": {
      "text/plain": [
       "<matplotlib.axes._subplots.AxesSubplot at 0x114148828>"
      ]
     },
     "execution_count": 9,
     "metadata": {},
     "output_type": "execute_result"
    },
    {
     "data": {
      "image/png": "[encoded data removed]",
      "text/plain": [
       "<matplotlib.figure.Figure at 0x11415bcf8>"
      ]
     },
     "metadata": {},
     "output_type": "display_data"
    }
   ],
   "source": [
    "hypothesis_test_plot(summary, \"TESEX\", \"t020501\")[1]"
   ]
  },
  {
   "cell_type": "code",
   "execution_count": 10,
   "metadata": {
    "collapsed": false
   },
   "outputs": [],
   "source": [
    "import re\n",
    "with open(\"Bekk'sRoom/dictionary.py\") as dictionary:\n",
    "    string = dictionary.read()\n",
    "string = re.sub(r'[\\n \\{\\}]', \"\", string[5:-3])\n",
    "string = re.sub(r\"','\", \"\\n\", string)\n",
    "string = re.sub(r\"':'\", \",\", string)\n",
    "with open(\"Bekk'sRoom/dictionary.csv\", 'w') as dictionary:\n",
    "    dictionary.write(string)"
   ]
  },
  {
   "cell_type": "code",
   "execution_count": 11,
   "metadata": {
    "collapsed": false
   },
   "outputs": [],
   "source": [
    "from BekksRoom.messy import datasets\n",
    "from BekksRoom.dictionary import key\n",
    "test = summary.rename(columns=key)"
   ]
  },
  {
   "cell_type": "code",
   "execution_count": 12,
   "metadata": {
    "collapsed": false,
    "scrolled": false
   },
   "outputs": [
    {
     "name": "stdout",
     "output_type": "stream",
     "text": [
      "want the average? y/n n\n",
      "Want your data cleaned?  We drop zeros and nan. y/n y\n",
      "Want standard Deviation? y/n n\n",
      "Want hypothesis testing? y/n y\n",
      "Automatically including weight because you want hypothesis test\n",
      "household\n",
      "weight\n",
      "Age_of_youngest_child\n",
      "Age\n",
      "Gender\n",
      "Notsure\n",
      "PTDTRACE\n",
      "PEHSPNON\n",
      "GTMETSTA\n",
      "labor_force_status\n",
      "last_7_Days__more_then_one_job\n",
      "full time or part time\n",
      "student_status\n",
      "allocation_flag\n",
      "spouse_parter_in_house\n",
      "employment_status_of_SO\n",
      "weekly_earning_main_job\n",
      "num_house_child\n",
      "full/part_employ_SO\n",
      "total_hours_worked_per_week\n",
      "day_of_interview\n",
      "flag_if_interviewday_was_holiday\n",
      "totaltimespent_providing_eldercare\n",
      "totaltimespend_childcare\n",
      "sleeping\n",
      "sleeplessness\n",
      "washing,dressingandgroomingoneself\n",
      "GroomingNEC\n",
      "Health-relatedselfcare\n",
      "selfcareNEC\n",
      "Personal/Private_activities\n",
      "InteriorCleaning\n",
      "Laundry\n",
      "Sewing,repairing&maintaintextiles\n",
      "Storing/interioritems,food\n",
      "housework\n",
      "food/drinkprep\n",
      "foodpresentation\n",
      "kitchen/foodcleanup\n",
      "food/drinkprep/present/clean\n",
      "interiorarrange,decorate,repair\n",
      "building/repair,furniture\n",
      "healing/cooking\n",
      "interiormaintenance,repairdecorate\n",
      "exteriorcleaning\n",
      "exteriorrepair,improve,decorate\n",
      "exteriormaintenance,repair,decorateNEC\n",
      "lawn,garden,houseplantcare\n",
      "ponds,pools,hottubs\n",
      "lawn/garden\n",
      "animals/pets\n",
      "walking/exercising/playingwithanimals\n",
      "pet/animalcareNEC\n",
      "vehiclerepair(byself)\n",
      "vehiclesNEC\n",
      "appliance,tool,toysetup,repair(byself)\n",
      "appliances/toolsNEC\n",
      "financialmanagement\n",
      "household/personalorganize/planning\n",
      "HH/personalmail/messages\n",
      "hh/personal/email/messages\n",
      "homesecurity\n",
      "household,managementNEC\n",
      "householdactivities\n",
      "physicalcare,forhhchildren\n",
      "reading_to_hh_children\n",
      "playing_with_hh_children_not_sports\n",
      "arts/crafts_children\n",
      "playing_sports_hh_children\n",
      "talking/listening_hh_children\n",
      "organization/planning_for_hh_children\n",
      "watching_hh_children\n",
      "attending_hh_child_event\n",
      "waiting_for/with_hh_children\n",
      "pickingup/droppingoff_hh_children\n",
      "caring/helping_hh_children\n",
      "homework_hhchildren\n",
      "meeting_school_conferences\n",
      "homeschool_hh_children\n",
      "activities,relatedto_hh_education\n",
      "providing_medical_care_to_hh_child\n",
      "obtaining_medical_care_hh_child\n",
      "waiting_associated_hh_child_health\n",
      "activities_related_childhealthNEC\n",
      "physical_care_hh_adults\n",
      "looking_after_hh_adult\n",
      "medical_care_hh_adult\n",
      "obtaining_medical_car_hh_adult\n",
      "waiting_associated_caring_hh_adult\n",
      "caring_hh_adults\n",
      "helping_hh_adults\n",
      "organization/planning_hh_adults\n",
      "picking_up/dropping_off_hh_adult\n",
      "waiting_associated_helping_hh_adults\n",
      "helping_household_adultsNEC\n",
      "caring_helping_hh_membersNEC\n",
      "physical_car_nonhh_children\n",
      "reading_to/with_nonhh_children\n",
      "playing_nonhh_children_notsport\n",
      "arts/crafts_nonhh_children\n",
      "playing_sports_nonhh_children\n",
      "talking/listening_nonhh_children\n",
      "organization_planning_nonhh_children\n",
      "looking_after_nonhh_children\n",
      "attending_nonhh_children_event\n",
      "waiting_for/with_nonhh_children\n",
      "dropping_off/picking_up_nonhh_childrenNEC\n",
      "caring_helping_nonhh_childrenNEC\n",
      "homework_nonhh_children\n",
      "activities_related_nonhh_educNEC\n",
      "providing_medical_car_nonhh_children\n",
      "obtaining_medicalcare_nonhh_children\n",
      "physical_car_nonhh_adults\n",
      "looking_after_nonhh_adult(primary activity)\n",
      "providing_medical_car_to_nonhh_adult\n",
      "obtaining_medical_car_services_nonhh_adult\n",
      "waiting_associated_with_caring_nonhhadults\n",
      "caring_for_nonhh_adultsNEC\n",
      "housework,cooking_shopping,assistance_nonhh_adults\n",
      "house_lawn_repair_assistance_nonhh_adults\n",
      "animal/pet_care_assist_nonhh_adults\n",
      "vehicle_appliance_maintenance/repair_assistance_nonhh_adults\n",
      "financial_manage_assist_nonhh_adults\n",
      "household_manage_paperwork_assistance_nonhh_adults\n",
      "picking_up/dropping_off_nonhh_adult\n",
      "associated_helping_nonhh_adults\n",
      "nonhh_adultsNEC\n",
      "work,mainjob\n",
      "work,otherjob\n",
      "security_procedures_related_work\n",
      "waiting_associated_working\n",
      "workingNEC\n",
      "socializing,relaxing,leisure_part_of_job\n",
      "eating/drinking_part_job\n",
      "waiting_associated_with_work-related_activities\n",
      "income-generating_hobbies/crafts/food\n",
      "income-generating_performances\n",
      "income-generating_rental_property_activities\n",
      "income-generating_rental_property_activities\n",
      "waiting_associated_other_income_generating_activities\n",
      "other_income_generatingNEC\n",
      "job_search_activites\n",
      "job_interviewing\n",
      "associated_job_search_interview\n",
      "work/work-related_activitiesNEC\n",
      "taking_class_dagree,certification,licensure\n",
      "taking_class_personal_interest\n",
      "waiting_associated_taking_classes\n",
      "taking_classNEC\n",
      "extracurricular_club_activities\n",
      "extracurricular_music/performance_activities\n",
      "education-related_extracurricular_actNEC\n",
      "research/homework_class_degree,cert,licensure\n",
      "research/homework_class_pers.interest\n",
      "associated_research/homework\n",
      "research/homeworkNEC\n",
      "admin_activities_class_dagree/cert/licensure\n",
      "admin_act_class_personal_interst\n",
      "associated_w/admin.activites(education)\n",
      "admin_educationNEC\n",
      "educationNEC\n",
      "grecery_shopping\n",
      "purchasing_gas\n",
      "purchasing_food\n",
      "shopping,except_food/gas\n",
      "associated_with_shopping\n",
      "comparison_shopping\n",
      "paid_childcare_services\n",
      "banking\n",
      "using_financial_services\n",
      "waiting_associated_with/banking/financial_services\n",
      "legal_services\n",
      "health_car_services_outside_home\n",
      "in-home_health_care_services\n",
      "waiting_associated_medical_services\n",
      "medical_services\n",
      "personal_care_services\n",
      "waiting_associated_w/personal_care_services\n",
      "act_purchasing/selling_real_estate\n",
      "waiting_associated_w/purchasing/selling_real_estate\n",
      "veterinary_services\n",
      "waiting_associated_vetinary_services\n",
      "professional_personal_services\n",
      "interior_cleaning_services\n",
      "clothing_repair_cleaning_services\n",
      "using_household_services\n",
      "home_maint/repair/decor/construction\n",
      "waiting_associated_w/home/repair/decor/constr\n",
      "pet_services\n",
      "associated_pet_services\n",
      "using_pet_servicesNEC\n",
      "lawn_garden_services\n",
      "lawn_garden_servicesNEC\n",
      "vehicle_maint_repair_services\n",
      "waiting_associated_vehicle_main_repair\n",
      "using_vehiclemaint/repair_svcs,NEC\n",
      "household_servicesNEC\n",
      "police_fire_services\n",
      "social_services\n",
      "obtaining_licenses/paying_fines_fees_taxes\n",
      "using_government_servicesNEC\n",
      "civic_obligations/participation\n",
      "waiting_associated_using_government_services\n",
      "security_procedures_rel_govt_svcs/civic_obligations\n",
      "government_servicesNEC\n",
      "eating/drinking\n",
      "waiting_associated_w/eating_drinking\n",
      "socializing_communicating\n",
      "attending/hosting_parties/receptions/ceremonies\n",
      "attending_meeting_personal_interst(not_volunteering)\n",
      "attending/hosting_social_eventsNEC\n",
      "relaxing,thinking\n",
      "tobacco/drug_use\n",
      "TV/movies(nonR)\n",
      "TV(R)\n",
      "listen_to_radio\n",
      "listen_to/playing_music\n",
      "playing_games\n",
      "computer_use_leisure\n",
      "arts/crafts_as_hobby\n",
      "collecting_hobby\n",
      "hobbies,except_arts/crafts_collecting\n",
      "reading_personal_interest\n",
      "writing_personal_interest\n",
      "relaxing/leisureNEC\n",
      "attending_performing_arts\n",
      "attending_museums\n",
      "attending_movies/film\n",
      "attending_gambling_establishments\n",
      "arts_entertainmentNEC\n",
      "waiting_assoc.w/socializing_communicating\n",
      "waiting_assoc.w/attending/hosting_social_events\n",
      "waiting_assoc.w/_relaxing/leisure\n",
      "waiting_assoc./w_arts/entertainment\n",
      "waiting_assoc./w_socializingNEC\n",
      "socializing/relaxing/leisureNEC\n",
      "doing_aerobics\n",
      "playing_baseball\n",
      "playing_basketball\n",
      "biking\n",
      "playing_billiards\n",
      "boating\n",
      "bowling\n",
      "climbing,spelunking,caving\n",
      "dancing\n",
      "participating_equestrian_sports\n",
      "fishing\n",
      "playing_football\n",
      "golfing\n",
      "doing_gymnastics\n",
      "hiking\n",
      "playing_hockey\n",
      "hunting\n",
      "participating_martial_arts\n",
      "playing_racquet_sports\n",
      "rollerblading\n",
      "playing_rugby\n",
      "running\n",
      "skiing,ice_skating,snowboarding\n",
      "playing_soccer\n",
      "softball\n",
      "using_cardiovascular_equipment\n",
      "vehicle_touring/racing\n",
      "playing_vollyball\n",
      "walking\n",
      "participating_water_sports\n",
      "weightlifting/strength_training\n",
      "working_out,unspecified\n",
      "wrestling\n",
      "doing_yoga\n",
      "playing_sportsNEC\n",
      "watching_baseball\n",
      "watching_basketball\n",
      "watching_biliards\n",
      "watching_boating\n",
      "watching_bowling\n",
      "watching_equestrian_sports\n",
      "watching_football\n",
      "watching_gymnastics\n",
      "watching_hockey\n",
      "watching_racquet_sports\n",
      "watching_rodeo_competitions\n",
      "watching_rollerblading\n",
      "watching_rugby\n",
      "watching_running\n",
      "watching_skiing,ice_skating,snowboarding\n",
      "watching_soccer\n",
      "watching_softball\n",
      "watching_vehicle_touring/racing\n",
      "watching_volleyball\n",
      "watching_water_sports\n",
      "watching_wrestling\n",
      "attending_sporting_eventNEC\n",
      "waiting_related_playing_sports_exercising\n",
      "waiting_related_attending_sporting_events\n",
      "sports,exercise,recrationNEC\n",
      "attending_religous_services\n",
      "participation_religous_practices\n",
      "waiting_associated.w/religious&spiritual_activities\n",
      "religious_education_act\n",
      "religous_spirtual_actNEC\n",
      "computer_use\n",
      "organizing/preparing\n",
      "reading\n",
      "telephone_calls(except_hotline_counseling)\n",
      "writing\n",
      "fundraising\n",
      "administrative&support_activeNEC\n",
      "food_prep,presentation,clean-up\n",
      "collecting&delivering_clothing&other_goods\n",
      "providing_car\n",
      "teaching,leading,counseling,mentoring\n",
      "social_service&care_activitiesNEC\n",
      "building_houses,wildlifesites&other_structures\n",
      "indoor&outdoor_maintenance,repair&clean-up\n",
      "indoor&outdoor_maintenance,building&clean-up_activities\n",
      "performing\n",
      "serving_volunteering_events&cultural_activities\n",
      "participating_performance&cultural_activitiesNEC\n",
      "attending_meetings,conferences,training\n",
      "attending_meetings,conferences&trainingNEC\n",
      "public_heatlh_activities\n",
      "public_safety_activities\n",
      "public_health_safety_activitiesNEC\n",
      "waiting_associated_volunteer_activities\n",
      "security_procedures_related_volunteer_act\n",
      "volunteer_activitiesNEC\n",
      "telephone_calls_to/from_family_members\n",
      "telephone_calls_to/from_friends/neighbors/acquaintances\n",
      "telephone_calls_to/from_education,services,providers\n",
      "telephone_calls_to/from_salespeople\n",
      "telephone_calls_to/from_professional/personal_care_svcs_providers\n",
      "telephone_calls_to/from_household_services_providers\n",
      "telephone_calls_to/from_paid_child/adult_car_providers\n",
      "telephone_calls_to/from_government_officials\n",
      "telephone_callsNEC\n",
      "waiting_associated_with_telephone_calls\n",
      "telephone_callsNEC\n",
      "travel_related_personal_car\n",
      "travel_related_personal_carNEC\n",
      "travel_related_housework\n",
      "travel_related_food/drink_prep/clean-up/presentation\n",
      "travel_related_interior_maintenance/repair&decoration\n",
      "travel_related_exterior_maintenance/repair/decoration\n",
      "travel_related_lawn/garden/houseplantcare\n",
      "travel_related_careAnimals/pets\n",
      "travel_related_vehiclecare/maintenance(by_self)\n",
      "travel_related_appliance/tool/toysetup/repair/maintance/(by_self)\n",
      "travel_related_household_management\n",
      "travel_related_to_household_act\n",
      "travel_related_caring_helping_hhchildren\n",
      "travel_related_hhchildrens_education\n",
      "travel_related_hhchildrens_health\n",
      "travel_related_caring_hhadults\n",
      "travel_related_helping_hhadults\n",
      "travel_related_caring/helping_nonhh_children\n",
      "travel_related_nonhh_childrens_education\n",
      "travel_related_nonhh_childrens_health\n",
      "travel_related_caring_nonhh_adults\n",
      "travel_related_helping_nonhh_adults\n",
      "travel_related_working\n",
      "travel_related_work-related_activities\n",
      "travel_related_income-generating_activities\n",
      "travel_related_job-search&interviewing\n",
      "travel_related_workNEC\n",
      "travel_related_taking_class\n",
      "travel_related_extracurricular_activites(sports)\n",
      "travel_related_research/homework\n",
      "travel_related_registration/administrative_activities\n",
      "travel_related_educationNEC\n",
      "travel_related_grocery-shopping\n",
      "travel_related_purchasing-gas\n",
      "travel_related_purchasing-food\n",
      "travel_related_shopping/exgroceries/food/gas\n",
      "travel_related_consumer-purchasesNEC\n",
      "travel_related_childcare_services\n",
      "travel_related_financial_services/banking\n",
      "travel_related_legal_services\n",
      "travel_related_medical_services\n",
      "travel_related_personal_care_services\n",
      "travel_related_real_estateservices\n",
      "travel_related_veterinary_services\n",
      "travel_rel_using_prof.&personal_car_servicesNEC\n",
      "travel_related_household_services\n",
      "travel_related_home./repair/decor/construction\n",
      "travel_related_pet_services(not_vet)\n",
      "travel_related_lawn/garden-services\n",
      "travel_related_vehicle/maintenance&repair-services\n",
      "travel_related_household_servicesNEC\n",
      "travel_related_government-services\n",
      "travel_related_civic-oligations&participation\n",
      "travel_rel.govtsvcs&civicobligationsNEC\n",
      "travel_related_eating/drinking\n",
      "travel_related_socializing/communicating\n",
      "travel_related_hosting_socialevents\n",
      "travel_related_relaxing/leisure\n",
      "travel_related_arts/entertainment\n",
      "travel_entertainment\n",
      "travel_rel.socializing/relaxing&leisureNEC\n",
      "travel_related_participating_sports/exercise/recreation\n",
      "travel_related_attending_sporting/recration_events\n",
      "travel_related_religious\n",
      "travel_rel.religousNEC\n",
      "travel_related_volunteering\n",
      "travel_related_volunteer_activitiesNEC\n",
      "travel_related_phone_calls\n",
      "security_procedures_related_traveling\n",
      "travelingNEC\n",
      "insufficient_detail\n",
      "missing_travel_or_destination\n",
      "respondent_refused_provide_information\n",
      "Gap/cant_remember\n",
      "unable_to_code_activity_1st_tier\n",
      "Enter you column as appears above, type DONE when done, or CLEAR if you messup\n",
      "What columns do you want?reading\n",
      "['weight', 'reading']\n",
      "Enter you column as appears above, type DONE when done, or CLEAR if you messup\n",
      "What columns do you want?writing\n",
      "['weight', 'reading', 'writing']\n",
      "Enter you column as appears above, type DONE when done, or CLEAR if you messup\n",
      "What columns do you want?DONE\n",
      "What is your group variable?writing\n",
      "What is your test variable?reading\n"
     ]
    },
    {
     "data": {
      "image/png": "[encoded data removed]",
      "text/plain": [
       "<matplotlib.figure.Figure at 0x1142b7eb8>"
      ]
     },
     "metadata": {},
     "output_type": "display_data"
    }
   ],
   "source": [
    "newdata = datasets(test)"
   ]
  },
  {
   "cell_type": "code",
   "execution_count": 14,
   "metadata": {
    "collapsed": false
   },
   "outputs": [],
   "source": [
    "a, b= newdata"
   ]
  },
  {
   "cell_type": "code",
   "execution_count": 15,
   "metadata": {
    "collapsed": false
   },
   "outputs": [
    {
     "data": {
      "text/html": [
       "<div style=\"max-height:1000px;max-width:1500px;overflow:auto;\">\n",
       "<table border=\"1\" class=\"dataframe\">\n",
       "  <thead>\n",
       "    <tr style=\"text-align: right;\">\n",
       "      <th></th>\n",
       "      <th>error</th>\n",
       "      <th>mean</th>\n",
       "    </tr>\n",
       "    <tr>\n",
       "      <th>writing</th>\n",
       "      <th></th>\n",
       "      <th></th>\n",
       "    </tr>\n",
       "  </thead>\n",
       "  <tbody>\n",
       "    <tr>\n",
       "      <th>60</th>\n",
       "      <td>NaN</td>\n",
       "      <td>135</td>\n",
       "    </tr>\n",
       "  </tbody>\n",
       "</table>\n",
       "</div>"
      ],
      "text/plain": [
       "         error  mean\n",
       "writing             \n",
       "60         NaN   135"
      ]
     },
     "execution_count": 15,
     "metadata": {},
     "output_type": "execute_result"
    }
   ],
   "source": [
    "a"
   ]
  },
  {
   "cell_type": "code",
   "execution_count": 16,
   "metadata": {
    "collapsed": false
   },
   "outputs": [
    {
     "data": {
      "text/plain": [
       "<matplotlib.axes._subplots.AxesSubplot at 0x11415b9b0>"
      ]
     },
     "execution_count": 16,
     "metadata": {},
     "output_type": "execute_result"
    }
   ],
   "source": [
    "b"
   ]
  },
  {
   "cell_type": "code",
   "execution_count": 17,
   "metadata": {
    "collapsed": false
   },
   "outputs": [
    {
     "name": "stdout",
     "output_type": "stream",
     "text": [
      "want the average? y/n y\n",
      "Want your data cleaned?  We drop zeros and nan. y/n y\n",
      "Automatically including weight because you want the average\n"
     ]
    },
    {
     "ename": "UnboundLocalError",
     "evalue": "local variable 'std' referenced before assignment",
     "output_type": "error",
     "traceback": [
      "\u001b[0;31m---------------------------------------------------------------------------\u001b[0m",
      "\u001b[0;31mUnboundLocalError\u001b[0m                         Traceback (most recent call last)",
      "\u001b[0;32m<ipython-input-17-5f8fcd746593>\u001b[0m in \u001b[0;36m<module>\u001b[0;34m()\u001b[0m\n\u001b[0;32m----> 1\u001b[0;31m \u001b[0mnewdata\u001b[0m \u001b[0;34m=\u001b[0m \u001b[0mdatasets\u001b[0m\u001b[0;34m(\u001b[0m\u001b[0mtest\u001b[0m\u001b[0;34m)\u001b[0m\u001b[0;34m\u001b[0m\u001b[0m\n\u001b[0m",
      "\u001b[0;32m/Users/BekkBlando/Documents/github/PJatus-analysis-system/BekksRoom/messy.py\u001b[0m in \u001b[0;36mdatasets\u001b[0;34m(dataset, query)\u001b[0m\n\u001b[1;32m     45\u001b[0m \u001b[0;34m\u001b[0m\u001b[0m\n\u001b[1;32m     46\u001b[0m \u001b[0;32mdef\u001b[0m \u001b[0mdatasets\u001b[0m\u001b[0;34m(\u001b[0m\u001b[0mdataset\u001b[0m\u001b[0;34m,\u001b[0m \u001b[0mquery\u001b[0m\u001b[0;34m=\u001b[0m\u001b[0;32mNone\u001b[0m\u001b[0;34m)\u001b[0m\u001b[0;34m:\u001b[0m\u001b[0;34m\u001b[0m\u001b[0m\n\u001b[0;32m---> 47\u001b[0;31m     \u001b[0mavg\u001b[0m\u001b[0;34m,\u001b[0m \u001b[0mclean\u001b[0m\u001b[0;34m,\u001b[0m \u001b[0mcolumns\u001b[0m\u001b[0;34m,\u001b[0m \u001b[0mstd\u001b[0m\u001b[0;34m,\u001b[0m \u001b[0mhypothesis\u001b[0m \u001b[0;34m=\u001b[0m \u001b[0mget_input\u001b[0m\u001b[0;34m(\u001b[0m\u001b[0mdataset\u001b[0m\u001b[0;34m)\u001b[0m\u001b[0;34m\u001b[0m\u001b[0m\n\u001b[0m\u001b[1;32m     48\u001b[0m     \u001b[0;31m# print(avg, clean, columns)\u001b[0m\u001b[0;34m\u001b[0m\u001b[0;34m\u001b[0m\u001b[0m\n\u001b[1;32m     49\u001b[0m     \u001b[0mdata\u001b[0m \u001b[0;34m=\u001b[0m \u001b[0mdataset\u001b[0m\u001b[0;34m[\u001b[0m\u001b[0mcolumns\u001b[0m\u001b[0;34m]\u001b[0m\u001b[0;34m\u001b[0m\u001b[0m\n",
      "\u001b[0;32m/Users/BekkBlando/Documents/github/PJatus-analysis-system/BekksRoom/messy.py\u001b[0m in \u001b[0;36mget_input\u001b[0;34m(dataset)\u001b[0m\n\u001b[1;32m     17\u001b[0m             \u001b[0mprint\u001b[0m\u001b[0;34m(\u001b[0m\u001b[0;34m\"Automatically including weight because you want the standard dev\"\u001b[0m\u001b[0;34m)\u001b[0m\u001b[0;34m\u001b[0m\u001b[0m\n\u001b[1;32m     18\u001b[0m             \u001b[0mcolumns\u001b[0m\u001b[0;34m.\u001b[0m\u001b[0mappend\u001b[0m\u001b[0;34m(\u001b[0m\u001b[0;34m'weight'\u001b[0m\u001b[0;34m)\u001b[0m\u001b[0;34m\u001b[0m\u001b[0m\n\u001b[0;32m---> 19\u001b[0;31m     \u001b[0;32mif\u001b[0m \u001b[0mavg\u001b[0m \u001b[0;34m!=\u001b[0m \u001b[0;34m'y'\u001b[0m \u001b[0;32mor\u001b[0m \u001b[0mstd\u001b[0m \u001b[0;34m!=\u001b[0m \u001b[0;34m'y'\u001b[0m\u001b[0;34m:\u001b[0m\u001b[0;34m\u001b[0m\u001b[0m\n\u001b[0m\u001b[1;32m     20\u001b[0m         \u001b[0mhypothesis\u001b[0m \u001b[0;34m=\u001b[0m \u001b[0minput\u001b[0m\u001b[0;34m(\u001b[0m\u001b[0;34m\"Want hypothesis testing? y/n \"\u001b[0m\u001b[0;34m)\u001b[0m\u001b[0;34m\u001b[0m\u001b[0m\n\u001b[1;32m     21\u001b[0m         \u001b[0;32mif\u001b[0m \u001b[0mhypothesis\u001b[0m \u001b[0;34m==\u001b[0m \u001b[0;34m'y'\u001b[0m\u001b[0;34m:\u001b[0m\u001b[0;34m\u001b[0m\u001b[0m\n",
      "\u001b[0;31mUnboundLocalError\u001b[0m: local variable 'std' referenced before assignment"
     ]
    }
   ],
   "source": [
    "newdata = datasets(test)\n"
   ]
  },
  {
   "cell_type": "code",
   "execution_count": null,
   "metadata": {
    "collapsed": true
   },
   "outputs": [],
   "source": []
  }
 ],
 "metadata": {
  "kernelspec": {
   "display_name": "Python 3",
   "language": "python",
   "name": "python3"
  },
  "language_info": {
   "codemirror_mode": {
    "name": "ipython",
    "version": 3
   },
   "file_extension": ".py",
   "mimetype": "text/x-python",
   "name": "python",
   "nbconvert_exporter": "python",
   "pygments_lexer": "ipython3",
   "version": "3.4.3"
  }
 },
 "nbformat": 4,
 "nbformat_minor": 0
}
